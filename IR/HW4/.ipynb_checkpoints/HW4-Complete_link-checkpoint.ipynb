{
 "cells": [
  {
   "cell_type": "code",
   "execution_count": 1,
   "metadata": {
    "collapsed": true
   },
   "outputs": [],
   "source": [
    "from heapq import heappush, heappop"
   ]
  },
  {
   "cell_type": "code",
   "execution_count": null,
   "metadata": {
    "collapsed": true
   },
   "outputs": [],
   "source": [
    "\n",
    "def EfficcientHAC(doc)\n",
    "\n",
    "\n",
    "    doclen = len(doc)\n",
    "    C = []\n",
    "    I = [1 for i in range(doclen)]\n",
    "    P = []\n",
    "    \n",
    "    for n in range(doclen):\n",
    "        inC = []\n",
    "        for i in range(doclen):\n",
    "            #C[n][i] = Sim_sigle(doc[n], doc[i])\n",
    "            inC.append(Sim_sigle(n, i), i)\n",
    "        C.append(inC)\n",
    "        \n",
    "            \n",
    "    A = []\n",
    "    \n",
    "    for k in doclen-1\n",
    "    \n",
    "    return A"
   ]
  },
  {
   "cell_type": "code",
   "execution_count": 5,
   "metadata": {},
   "outputs": [
    {
     "data": {
      "text/plain": [
       "0.16003130761051851"
      ]
     },
     "execution_count": 5,
     "metadata": {},
     "output_type": "execute_result"
    }
   ],
   "source": [
    "#single link\n",
    "\n",
    "import numpy as np\n",
    "\n",
    "#print (up/(np.linalg.norm(a)*np.linalg.norm(b)))\n",
    "def Sim_sigle(Docx, Docy):\n",
    "    \n",
    "    doc = [str(Docx)+'.txt', str(Docy)+'.txt']\n",
    "    path = 'tfidf/'\n",
    "    cos_vec = []\n",
    "    \n",
    "    for filename in doc:\n",
    "        \n",
    "        with open(path+filename) as f:\n",
    "            content = f.readlines()\n",
    "            # you may also want to remove whitespace characters like `\\n` at the end of each line\n",
    "            content = [x.strip() for x in content] \n",
    "        content.pop(0)\n",
    "        cos_vec.append([tuple([i.split()[0], float(i.split()[1])]) for i in content])\n",
    "    \n",
    "    vc_norm_x = [i[1] for i in cos_vec[0]]\n",
    "    vc_norm_y = [i[1] for i in cos_vec[1]]\n",
    "\n",
    "    up = 0\n",
    "    for i in cos_vec[1]:\n",
    "        #print ([y[0] for x, y in enumerate(cos_vec[0]) if y[0] == i[0]])\n",
    "        for j in cos_vec[0]:\n",
    "            if i[0]==j[0]:\n",
    "                up+=i[1]*j[1]\n",
    "                \n",
    "    down = np.linalg.norm(vc_norm_x) * np.linalg.norm(vc_norm_y)\n",
    "    if down ==0:\n",
    "        return 0\n",
    "    else:\n",
    "        return up/down\n",
    "\n",
    "#Sim_sigle(5,7)"
   ]
  },
  {
   "cell_type": "code",
   "execution_count": 2,
   "metadata": {},
   "outputs": [
    {
     "name": "stdout",
     "output_type": "stream",
     "text": [
      "J\n",
      "O\n",
      "H\n",
      "N\n"
     ]
    }
   ],
   "source": [
    "heap = []\n",
    "data = [(1, 'J'), (4, 'N'), (3, 'H'), (2, 'O')]\n",
    "for item in data:\n",
    "    heappush(heap, item)\n",
    "\n",
    "while heap:\n",
    "    print(heappop(heap)[1])"
   ]
  },
  {
   "cell_type": "code",
   "execution_count": null,
   "metadata": {
    "collapsed": true
   },
   "outputs": [],
   "source": []
  }
 ],
 "metadata": {
  "kernelspec": {
   "display_name": "Python 3",
   "language": "python",
   "name": "python3"
  },
  "language_info": {
   "codemirror_mode": {
    "name": "ipython",
    "version": 3
   },
   "file_extension": ".py",
   "mimetype": "text/x-python",
   "name": "python",
   "nbconvert_exporter": "python",
   "pygments_lexer": "ipython3",
   "version": "3.6.1"
  }
 },
 "nbformat": 4,
 "nbformat_minor": 2
}
