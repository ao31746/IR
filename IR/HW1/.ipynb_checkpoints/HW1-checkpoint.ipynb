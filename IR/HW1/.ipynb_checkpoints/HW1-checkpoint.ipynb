{
 "cells": [
  {
   "cell_type": "code",
   "execution_count": 16,
   "metadata": {},
   "outputs": [
    {
     "name": "stdout",
     "output_type": "stream",
     "text": [
      "#Tokenization\n",
      "['And', 'Yugoslav', 'authorities', 'are', 'planning', 'the', 'arrest', 'of', 'eleven', 'coal', 'miners', 'and', 'two', 'opposition', 'politicians', 'on', 'suspicion', 'of', 'sabotage', 'thats', 'in', 'connection', 'with', 'strike', 'action', 'against', 'President', 'Slobodan', 'Milosevic', 'You', 'are', 'listening', 'to', 'BBC', 'news', 'for', 'The', 'World']\n",
      "\n",
      "#Lowercasing everything.\n",
      "['and', 'yugoslav', 'authorities', 'are', 'planning', 'the', 'arrest', 'of', 'eleven', 'coal', 'miners', 'and', 'two', 'opposition', 'politicians', 'on', 'suspicion', 'of', 'sabotage', 'thats', 'in', 'connection', 'with', 'strike', 'action', 'against', 'president', 'slobodan', 'milosevic', 'you', 'are', 'listening', 'to', 'bbc', 'news', 'for', 'the', 'world']\n",
      "\n",
      "#Stemming using Porter’s algorithm.\n",
      "['and', 'yugoslav', 'author', 'are', 'plan', 'the', 'arrest', 'of', 'eleven', 'coal', 'miner', 'and', 'two', 'opposit', 'politician', 'on', 'suspicion', 'of', 'sabotag', 'that', 'in', 'connect', 'with', 'strike', 'action', 'against', 'presid', 'slobodan', 'milosev', 'you', 'are', 'listen', 'to', 'bbc', 'news', 'for', 'the', 'world']\n",
      "\n",
      "#Stopword removal.\n",
      "['yugoslav', 'author', 'plan', 'arrest', 'eleven', 'coal', 'miner', 'two', 'opposit', 'politician', 'suspicion', 'sabotag', 'connect', 'strike', 'action', 'presid', 'slobodan', 'milosev', 'listen', 'bbc', 'news', 'world']\n",
      "\n"
     ]
    }
   ],
   "source": [
    "#read file and remove punctuation\n",
    "mylist = []\n",
    "with open(\"28.txt\") as f:\n",
    "    mylist = f.read().splitlines()\n",
    "str1 = ''.join(mylist)\n",
    "import string\n",
    "for c in string.punctuation:\n",
    "    str1 = str1.replace(c,\"\")\n",
    "\n",
    "#Tokenization\n",
    "split_string = str1.split(' ')\n",
    "print (\"#Tokenization\")\n",
    "print (split_string)\n",
    "print ()\n",
    "\n",
    "#Lowercasing everything.\n",
    "lower = [item.lower() for item in split_string]\n",
    "print (\"#Lowercasing everything.\")\n",
    "print (lower)\n",
    "print ()\n",
    "\n",
    "#Stemming using Porter’s algorithm.\n",
    "from nltk.stem.porter import *\n",
    "stemmer = PorterStemmer()\n",
    "singles = [stemmer.stem(plural) for plural in lower]\n",
    "print (\"#Stemming using Porter’s algorithm.\")\n",
    "print (singles)\n",
    "print ()\n",
    "\n",
    "#Stopword removal.\n",
    "stop_tmp = ' '.join(singles)\n",
    "from nltk.corpus import stopwords\n",
    "stop = set(stopwords.words('english'))\n",
    "stop_remove = [i for i in stop_tmp.lower().split() if i not in stop]\n",
    "print (\"#Stopword removal.\")\n",
    "print (stop_remove)\n",
    "print ()\n",
    "\n",
    "#Save the result as a txt file. \n",
    "new_path = 'hw1_result.txt'\n",
    "new_days = open(new_path,'w')\n",
    "new_days.write(' '.join(stop_remove))\n",
    "new_days.close()"
   ]
  },
  {
   "cell_type": "code",
   "execution_count": 51,
   "metadata": {
    "collapsed": true
   },
   "outputs": [],
   "source": [
    "print (123)"
   ]
  },
  {
   "cell_type": "code",
   "execution_count": null,
   "metadata": {
    "collapsed": true
   },
   "outputs": [],
   "source": []
  }
 ],
 "metadata": {
  "kernelspec": {
   "display_name": "Python 3",
   "language": "python",
   "name": "python3"
  },
  "language_info": {
   "codemirror_mode": {
    "name": "ipython",
    "version": 3
   },
   "file_extension": ".py",
   "mimetype": "text/x-python",
   "name": "python",
   "nbconvert_exporter": "python",
   "pygments_lexer": "ipython3",
   "version": "3.6.1"
  }
 },
 "nbformat": 4,
 "nbformat_minor": 2
}
